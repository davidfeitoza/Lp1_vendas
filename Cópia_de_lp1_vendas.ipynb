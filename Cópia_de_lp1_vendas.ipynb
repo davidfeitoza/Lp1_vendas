{
  "nbformat": 4,
  "nbformat_minor": 0,
  "metadata": {
    "colab": {
      "provenance": [],
      "mount_file_id": "1w_HU0kOJ2oBzuJFi7SUMLxEF2U1wWEFO",
      "authorship_tag": "ABX9TyMFmT7tLdRq7zqdILCHi7/E",
      "include_colab_link": true
    },
    "kernelspec": {
      "name": "python3",
      "display_name": "Python 3"
    },
    "language_info": {
      "name": "python"
    }
  },
  "cells": [
    {
      "cell_type": "markdown",
      "metadata": {
        "id": "view-in-github",
        "colab_type": "text"
      },
      "source": [
        "<a href=\"https://colab.research.google.com/github/davidfeitoza/lp1_vendas/blob/main/C%C3%B3pia_de_lp1_vendas.ipynb\" target=\"_parent\"><img src=\"https://colab.research.google.com/assets/colab-badge.svg\" alt=\"Open In Colab\"/></a>"
      ]
    },
    {
      "cell_type": "markdown",
      "source": [
        "**Etapa 1**"
      ],
      "metadata": {
        "id": "KT331nfXPv8h"
      }
    },
    {
      "cell_type": "code",
      "execution_count": 1,
      "metadata": {
        "colab": {
          "base_uri": "https://localhost:8080/"
        },
        "id": "E9uizr5nD2uF",
        "outputId": "0b9d6010-19dd-45a3-c510-e97a0a9e5ac9"
      },
      "outputs": [
        {
          "output_type": "stream",
          "name": "stdout",
          "text": [
            "\n",
            "ERRO: o arquivo não foi encontrado no caminho especificado: \n",
            "Por favor, verifique se o caminho e o nome do arquivo estão corretos e se você montou seu Google Drive no Collab (se aplicável).\n"
          ]
        }
      ],
      "source": [
        "import pandas as pd\n",
        "import matplotlib.pyplot as plt\n",
        "import seaborn as sns\n",
        "\n",
        "caminho_arquivo = ''\n",
        "\n",
        "try:\n",
        "    df = pd.read_excel(caminho_arquivo)\n",
        "    print(f\"\\nArquivo '{caminho_arquivo.split('/')[-1]}' carregado com  sucesso em um Dataframe!\")\n",
        "\n",
        "    print(\"\\nPrimeiras 5 linhas do Dataframe:\")\n",
        "    print(df.head())\n",
        "\n",
        "    print(\"\\nInformações gerais do Dataframe:\")\n",
        "    df.info()\n",
        "\n",
        "except FileNotFoundError:\n",
        "    print(f\"\\nERRO: o arquivo não foi encontrado no caminho especificado: {caminho_arquivo}\")\n",
        "    print(\"Por favor, verifique se o caminho e o nome do arquivo estão corretos e se você montou seu Google Drive no Collab (se aplicável).\")\n",
        "except Exception as e:\n",
        "    print(f\"\\nOcorreu um erro ao carregar o arquivo: {e}\")"
      ]
    },
    {
      "cell_type": "markdown",
      "source": [
        "**Etapa** **2**"
      ],
      "metadata": {
        "id": "_VFlYJeRFCUs"
      }
    },
    {
      "cell_type": "code",
      "source": [
        "# Objetivo: Tratar inconstâncias e preparar os dados para a análise\n",
        "print(\"\\n\" + \"=\"*50)\n",
        "print(\"Iniciando Etapa 2: Limpeza e Pré-processamento de Dados\")\n",
        "print(\"=\"*50)\n",
        "\n",
        "# Antes de começar, fazer uma cópia do dataframe original para não alterar o DF da Etapa 1\n",
        "df_limpo = df.copy()\n",
        "print(\"\\nCópia do DataFrame original criada para limpeza (df_limpo).\")\n",
        "\n",
        "# 1. Renomear colunas:\n",
        "# Padronização dos nomes de colunas para facilitar o acesso (ex.: remover espaços, caracteres especiais)\n",
        "# Inspecionar os nomes atuais para decidir o que fazer\n",
        "print(\"\\nNomes originais das colunas:\")\n",
        "print(df_limpo.columns.tolist())\n",
        "novos_nomes_colunas = {col: col.replace(' ', '_').replace('.','').lower() for col in df_limpo.columns}\n",
        "df_limpo.rename(columns=novos_nomes_colunas, implace=True)\n",
        "\n",
        "print(\"\\nNomes das colunas após renomeação, se houver:\")\n",
        "print(df_limpo.columns.tolist())"
      ],
      "metadata": {
        "id": "-GIOwcHeFFnb"
      },
      "execution_count": null,
      "outputs": []
    },
    {
      "cell_type": "code",
      "source": [
        "# 2. Verificar valores ausentes:\n",
        "print(\"\\nVerificando valores ausentes no DataFrame:\")\n",
        "valores_nulos = df_limpo.isnull().sum()\n",
        "print(valores_nulos[valores_nulos > 0]) # Exibe apenas colunas com valores nulos\n",
        "\n",
        "for coluna in valores_nulos[valores_nulos > 0].index:\n",
        "  if df_limpo[coluna].dtype == 'object': # Se for uma coluna de texto/categórica\n",
        "    df_limpo[coluna].fillna('Desconhecido', inplace=True)\n",
        "    print(f\"Preenchido valores nulos na coluna '{coluna}' com 0.\")\n",
        "\n",
        "  elif pd.api.types.is_numeric_dtype(df_limpo[coluna]):\n",
        "    df_limpo[coluna].fillna(0, inplace=True) # Preenchido com valor 0\n",
        "    print(f\"Preenchido valores nulos na coluna '{coluna}' com 'Desconhecido'.\")\n",
        "\n",
        "  else:\n",
        "    print(f\"Coluna '{coluna}' possui nulos, mas não foi tratada automaticamente (necessita análise específica).\")\n",
        "\n",
        "print(\"\\nValores ausentes após tratamento, se houver:\")\n",
        "print(df_limpo.isnull().sum()[df_limpo.isnull().sum() > 0])"
      ],
      "metadata": {
        "id": "Rbqk6h48I4Dl"
      },
      "execution_count": null,
      "outputs": []
    },
    {
      "cell_type": "code",
      "source": [
        "# 3. Converter Tipos de Dados:\n",
        "print(\"\\nVerificando e convertendo tipos de dados:\")\n",
        "print(\"Tipos de dados antes da conversão:\")\n",
        "print(df_limpo.info())\n",
        "\n",
        "# 3.1. Converter colunas numéricas (ex.: total_vendas, quantidade, desconto, lucro)\n",
        "colunas_numericas_para_converter = ['total_vendas', 'quantidade', 'desconto', 'lucro']\n",
        "for coluna in colunas_numericas_para_converter:\n",
        "  if coluna in df_limpo.columns:\n",
        "    # Ponto de atenção: A conversão de números pode exigir a substituição de vírgulas por pontos\n",
        "    # antes de converter para float, e tratamento para caracteres não numéricos\n",
        "    # A coluna Desconto pode ter valores como 'S' ou vazios\n",
        "    if df_limpo[coluna].dtype == 'object': # Se a coluna for de objeto (string)\n",
        "      # Substitui vírgulas por pontos e tenta converter para numérico\n",
        "      # Coerces erros (como 'S' ou vazios) para NaN, que pode ser tratado depois\n",
        "      df_limpo[coluna] = df_limpo[coluna].astype(str).str.replace(',', '.', regex=False)\n",
        "      df_limpo[coluna] = pd.to_numeric(df_limpo[coluna], erros='coerce')\n",
        "      # Após a conversão, preenche NaNs criados por 'coerce' com 0, ou outra estratégia\n",
        "      df_limpo[coluna].fillna(0, inplace=True)\n",
        "      print(f\"Coluna '{coluna}' convertida para numérico (float) e NaN/erros preenchidos com 0.\")\n",
        "    elif pd.api.types.is_numeric_dtype(df_limpo[coluna]) and df_limpo[coluna].dtype != 'float64':\n",
        "      # Se já é numérico mas não float (ex: int), assegura que é floar para consistência\n",
        "      df_limpo[coluna] = df_limpo[coluna].astype(float)\n",
        "      print(f\"Coluna '{coluna}' convertida para float.\")\n",
        "  else:\n",
        "    print(f\"Aviso: Coluna '{coluna} não encontrada no DataFrame para conversão numérica.\")\n",
        "\n",
        "# 3.2. Converter a coluna data_pedido para o tipo datetime\n",
        "coluna_data = 'data_pedido' # Adapte conforme o nome real da sua coluna de data\n",
        "if coluna_data in df_limpo.columns:\n",
        "  df_limpo[coluna_data] = pd.to_datetime(df_limpo[coluna_data], erros='coerce')\n",
        "  # Tratar possíveis NaNs criados por datas inválidas\n",
        "  if df_limpo[coluna_data].isnull().sum() > 0:\n",
        "    print(f\"Atenção: {df_limpo[coluna_data].isnull().sum()} valores inválidos na coluna '{coluna_data}' foram convertidos para NaT (Not a Time).\")\n",
        "    # Você pode remover essas linhas ou preenchê-las com uma data padrão, dependendo da sua análise\n",
        "    # df_limpo.dropna(subset=[coluna_data], inplace=True) # Exemplo: remover linhas com datas inválidas\n",
        "  print(f\"Coluna '{coluna_data}' convertida para tipo datetime.\")\n",
        "else:\n",
        "    print(f\"Aviso: Coluna '{coluna_data}' não encontrada no dataframe para conversão de data.\")\n",
        "\n",
        "print(\"\\nTipos de dados após conversão:\")\n",
        "print(df_limpo.info())"
      ],
      "metadata": {
        "id": "GFzm54hFL9AN"
      },
      "execution_count": null,
      "outputs": []
    },
    {
      "cell_type": "code",
      "source": [
        "# 4. Tratar duplicatas\n",
        "print(\"\\nVerificando e tratando duplicatas:\")\n",
        "duplicatas = df_limpo.duplicated().sum()\n",
        "if duplicatas > 0:\n",
        "    print(f\"Número de linhas duplicadas encontradas: {duplicatas}\")\n",
        "    df_limpo.drop_duplicates(inplace=True)\n",
        "    print(f\"Duplicatas removidas. Novo número de linhas: {len(df_limpo)}\")\n",
        "else:\n",
        "    print(\"Nenhuma linha duplicada encontrada.\")\n",
        "\n",
        "print(\"\\n\" + \"-\"*50)\n",
        "print(\"Etapa 2: Limpeza e Pré-processamento de Dados CONCLUÍDA!\")\n",
        "print(\"=\"*50)\n",
        "\n",
        "print(\"\\nPrimeiras 5 linhas do Dataframe após limpeza:\")\n",
        "print(df_limpo.head())"
      ],
      "metadata": {
        "id": "I_ERx7yaPm48"
      },
      "execution_count": null,
      "outputs": []
    },
    {
      "cell_type": "markdown",
      "source": [
        "**Etapa 3**"
      ],
      "metadata": {
        "id": "iTtidG6JP5xe"
      }
    },
    {
      "cell_type": "code",
      "source": [
        "from re import X\n",
        "print(\"\\n\" + \"-\"*50)\n",
        "print(\"Iniciando Etapa 3: Análise Exploratória de Dados (EDA)\")\n",
        "print(\"=\"*50)\n",
        "\n",
        "print(\"\\n--- 1. Total de vendas Acumulado ---\")\n",
        "if pd.api.types.is_numeric_dtype(df_limpo['total_vendas']):\n",
        "    total_vendas_acumulado = df_limpo['total_vendas'].sum()\n",
        "    print(f\"Total de Vendas Acumulado: R$ {total_vendas_acumulado:,.2f}\")\n",
        "else:\n",
        "  print(\"A coluna 'total_vendas' não é numérica. Verifique a etapa 2.\")\n",
        "\n",
        "print(\"\\n--- 2. Categorias de Produtos Mais Vendidas ---\")\n",
        "vendas_por_categoria = df_limpo.groupby('categoria')['total_vendas'].sum().sort_values(ascending=False)\n",
        "print(\"Vendas por categoria (Top 10):\")\n",
        "print(vendas_por_categoria.head(10).apply(lambda x: f\"R$ (x:,.2f)\"))"
      ],
      "metadata": {
        "id": "i635pfRVP8tH"
      },
      "execution_count": null,
      "outputs": []
    },
    {
      "cell_type": "code",
      "source": [
        "print(\"\\n--- 3. Prioridade de Entrega vs. Vendas por País ---\")\n",
        "vendas_por_pais_prioridade = df_limpo.groupby(['pais', 'prioridade'])['total_vendas'].sum().unstack(fill_value=0)\n",
        "print(\"Vendas por País e Prioridade de Entrega:\")\n",
        "print(vendas_por_pais_prioridade.applymap(lambda x: f\"R$ {x:,.2f}\"))\n",
        "\n",
        "print(\"\\n--- 4. Impacto dos Descontos na Subcategoria ---\")\n",
        "impacto_desconto_subcategoria = df_limpo.groupby('subcategoria').agg(\n",
        "    desconto_medio=('desconto', 'mean'),\n",
        "    total_vendas=('total_vendas', 'sum')\n",
        ").sort_values(by='total_vendas', ascending=False)\n",
        "impacto_desconto_subcategoria['desconto_medio'] = impacto_desconto_subcategoria['desconto_medio'].apply(lambda x: f\"{x:.2%}\")\n",
        "impacto_desconto_subcategoria['total_vendas'] = impacto_desconto_subcategoria['total_vendas'].apply(lambda x: f\"R$ {x:,.2f}\")"
      ],
      "metadata": {
        "id": "kp3rIPTCQXvm"
      },
      "execution_count": null,
      "outputs": []
    },
    {
      "cell_type": "code",
      "source": [
        "print(\"\\n--- 5. Países com Maior Ticket Médio ---\")\n",
        "if pd.api.types.is_numeric_dtype(df_limpo['quantidade']):\n",
        "    ticket_medio_por_pais = df_limpo.groupby('pais').agg(\n",
        "        soma_vendas=('total_vendas', 'sum'),\n",
        "        soma_quantidade=('quantidade', 'sum')\n",
        "    )\n",
        "    ticket_medio_por_pais['ticket_medio'] = ticket_medio_por_pais.apply(\n",
        "        lambda row: row['soma_vendas'] / row['soma_quantidade'] if row['soma_quantidade'] > 0 else 0, axis=1\n",
        "    )\n",
        "    ticket_medio_por_pais = ticket_medio_por_pais.sort_values(by='ticket_medio', ascending=False)\n",
        "\n",
        "    print(\"Países com Maior Ticket Médio (Top 10):\")\n",
        "    print(ticket_medio_por_pais['ticket_medio'].head(10).apply(lambda x: f\"R$ {x:,.2f}\"))\n",
        "else:\n",
        "    print(\"A coluna 'quantidade' não é numérica. Verifique a etapa 2.\")\n",
        "\n",
        "print(\"\\n\" + \"-\"*50)\n",
        "print(\"Etapa 3: Análise Exploratória de Dados (EDA) CONCLUÍDA!\")\n",
        "print(\"As respostas às perguntas de negócio foram geradas acima\")\n",
        "print(\"=\"*50)"
      ],
      "metadata": {
        "id": "_aPw0AMLQeOJ"
      },
      "execution_count": null,
      "outputs": []
    },
    {
      "cell_type": "markdown",
      "source": [
        "**Etapa 4**"
      ],
      "metadata": {
        "id": "hhAhnp8zUmum"
      }
    },
    {
      "cell_type": "code",
      "source": [
        "# Visualização de Dados\n",
        "# Objetivo: Criar gráficos para apresentar os insights de forma clara e visualmente atraente.\n",
        "\n",
        "print(\"\\n\" + \"=\"*50)\n",
        "print(\"Iniciando Etapa 4: Visualização de Dados\")\n",
        "print(\"=\"*50)\n",
        "\n",
        "# Configurações básicas para os gráficos\n",
        "plt.style.use('seaborn-v0_8-darkgrid') # Estilo de grgáfico\n",
        "plt.rcParams['figure.figsize'] = (12, 7) # Tamanho padrão das figuras\n",
        "\n",
        "# 1. Total de Vendas por Categoria:\n",
        "print(\"\\n--- 1. Gráfico de Total de Vendas por Categoria ---\")\n",
        "vendas_por_categoria = df_limpo.groupby('categoria')['total_vendas'].sum().sort_values(ascending=False)\n",
        "\n",
        "plt.figure(figsize=(10, 6))\n",
        "sns.barplot(x=vendas_por_categoria.index, y=vendas_por_categoria.values, palette='viridis')\n",
        "plt.title('Total de Vendas por Categoria', fontsize=16)\n",
        "plt.xlabel('Categora', fontsize=12)\n",
        "plt.ylabel('Total de Vendas (R$)', fontsize=12)\n",
        "plt.xticks(rotation=45, ha='right') # Rotaciona os rótulos do eixo X para melhor leitura\n",
        "plt.grid(axis='y', linestyle='--', alpha=0.7)\n",
        "plt.tight_layout( # Ajusta o layout para evitar sobreposição)\n",
        "plt.show()\n",
        "\n",
        "# Se preferir um gráfico de pizza para mostrar a distribuição:\n",
        "plt.figure(figsize=(9, 9))\n",
        "plt.pie(vendas_por_categoria, labels=vendas_por_categoria.index, astopct='%1.1f%%', startangle=90, colors=sns.color_palette('viridis', len(vendas_por_categoria)))\n",
        "plt.title('Distribuição Percentual de Vendas por Categoria', fontsize=16)\n",
        "plt.axis('equal') # Garante que o gráfico de pizza seja um círculo\n",
        "plt.show()"
      ],
      "metadata": {
        "id": "mco_EbpmUy3l"
      },
      "execution_count": null,
      "outputs": []
    },
    {
      "cell_type": "code",
      "source": [
        "# 2. Média de Desconto por SubCategoria:\n",
        "print(\"\\n--- 2. Gráfico de Média de Desconto por SubCategoria ---\")\n",
        "media_desconto_subcategoria = df_limpo.groupby('subcategoria')['desconto'].mean().sort_values(ascending=False)\n",
        "\n",
        "plt.figure(figsize=(12, 8))\n",
        "sns.barplot(x=media_desconto_sobcategoria.values, y=media_desconto_subcategoria.index, palette='plasma')\n",
        "plt.title('Média de Desconto por Subvategoria', fontsize=16)\n",
        "plt.xlabel('Média de Desconto (%)', fontsize=12)\n",
        "plt.ylabel('Subcategoria', fontsize=12)\n",
        "plt.xtricks(rotation=0) # Rotação 0 para rótulos horizontais\n",
        "plt.grid(axis='x', linestyle='==', alpha=0.7)\n",
        "\n",
        "# Formata os rótulos do eixo X como porcentagem\n",
        "plt.gca().xaxis.set_major_Formatter(plt.FuncFormatter(lambda x, _: '{:.0%}'.format(x)))\n",
        "\n",
        "plt.tight_layout()\n",
        "plt.show()"
      ],
      "metadata": {
        "id": "O0Wx2xLXcYKW"
      },
      "execution_count": null,
      "outputs": []
    },
    {
      "cell_type": "code",
      "source": [
        "# 3. Total de Vendas Global:\n",
        "print (\"\\n--- 3. Total de Vendas Global ---\")\n",
        "if pd.api.types.is_numeric_dtype(df_limpo['total_vendas'])\n",
        "  total_vendas_acumulado = df_limpo['total_vendas'].sum()\n",
        "  print(f\"**Total de Vendas Acumulado Global: R$ {total_vendas_acumulado:,.2f}**\")\n",
        "  print(\"\\n\" + \"#\"*40)\n",
        "  print(f\"#{' '*11} VENDAS GLOBAIS {' '*11}#\")\n",
        "  print(f\"#{' '*10} R$ {total_vendas_acumulado:,.2f} {' '*10}#\")\n",
        "  print(\"#\"*40)\n",
        "else:\n",
        "  print(\"A coluna 'total_vendas' não é numérica, não foi possível calcular o total de vendas globais.\")"
      ],
      "metadata": {
        "id": "H9B3aUDYgkou"
      },
      "execution_count": null,
      "outputs": []
    },
    {
      "cell_type": "code",
      "source": [
        "print(\"\\n--- 4. Gráfico de Total de Vendas por País e Prioridade ---\")\n",
        "vendas_por_pais_prioridade = df_limpo.groupby(['pais', 'prioridade'])['total_vendas'].sum().unstack(fill_value=0)\n",
        "\n",
        "soma_vendas_por_pais = vendas_por_pais_prioridade.sum(axis=1).sort_values(ascending=False).index\n",
        "vendas_por_pais_prioridade_ordenado = vendas_por_pais_prioridade.loc[soma_vendas_por_pais]\n",
        "\n",
        "vendas_por_pais_prioridade_ordenado.plot(kind='bar', stack=True, figsize=(14, 8), colormap='viridis')\n",
        "plt.title('Total de Vendas por País e Prioridade de Entrega', fontsize=16)\n",
        "plt.xlabel('País', fontsize=12)\n",
        "plt.ylabel('Total de Vendas (R$)', fontsize=12)\n",
        "plt.xticks(rotation=60, ha='right')\n",
        "plt.legend(title='Prioridade de Entrega')\n",
        "plt.grid(axis='y', linestyle='--', alpha=0.7)\n",
        "plt.tight_layout()\n",
        "plt.show()"
      ],
      "metadata": {
        "id": "WAd1nW3fRyjg"
      },
      "execution_count": null,
      "outputs": []
    },
    {
      "cell_type": "code",
      "source": [
        "print(\"\\n--- 5. Gráfico de Média de Vendas (Ticket Médio) por País ---\")\n",
        "if 'quantidade' in df_limpo.columns and pd.api.types.is_numeric_dtype(df_limpo['quantidade']):\n",
        "    ticket_medio_por_pais = df_limpo.groupby('pais').agg(\n",
        "        soma_vendas=('total_vendas', 'sum'),\n",
        "        soma_quantidade=('quantidade', 'sum')\n",
        "    )\n",
        "    ticket_medio_por_pais['ticket_medio'] = ticket_medio_por_pais.apply(\n",
        "        lambda row: row['soma_vendas'] / row['soma_quantidade'] if row['soma_quantidade'] > 0 else 0, axis=1\n",
        "    )\n",
        "    ticket_medio_por_pais = ticket_medio_por_pais.sort_values(by='ticket_medio', ascending=False).head(15)\n",
        "\n",
        "    plt.figure(figsize=(12, 7))\n",
        "    sns.barplot(x=ticket_medio_por_pais.index, y=ticket_medio_por_pais['ticket_medio'], palette='cubehelix')\n",
        "    plt.title('Top 15 Países com Maior Ticket Médio', fontsize=16)\n",
        "    plt.xlabel('País', fontsize=12)\n",
        "    plt.ylabel('Ticket Médio (R$)', fontsize=12)\n",
        "    plt.xticks(rotation=45, ha='right')\n",
        "    plt.grid(axis='y', linestyle='--', alpha=0.7)\n",
        "    plt.tight_layout()\n",
        "    plt.show()\n",
        "else:\n",
        "    print(\"A coluna 'quantidade não é numérica ou não encontrada para calcular o ticket médio. Verifique a Etapa 2.\")\n",
        "print(\"\\n\" + \"=\"*50)\n",
        "print(\"Etapa 4: Visualização de Dados CONCLUÍDA!\")\n",
        "print(\"Os gráficos foram gerados e exibidos.\")\n",
        "print(\"=\"*50)"
      ],
      "metadata": {
        "id": "-q1yjyk0T494"
      },
      "execution_count": null,
      "outputs": []
    }
  ]
}